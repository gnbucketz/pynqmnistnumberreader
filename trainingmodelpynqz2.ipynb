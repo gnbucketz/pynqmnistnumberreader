{
  "nbformat": 4,
  "nbformat_minor": 0,
  "metadata": {
    "colab": {
      "provenance": [],
      "authorship_tag": "ABX9TyPJiEgN2ngDbSI9TPf+gHzG",
      "include_colab_link": true
    },
    "kernelspec": {
      "name": "python3",
      "display_name": "Python 3"
    },
    "language_info": {
      "name": "python"
    }
  },
  "cells": [
    {
      "cell_type": "markdown",
      "metadata": {
        "id": "view-in-github",
        "colab_type": "text"
      },
      "source": [
        "<a href=\"https://colab.research.google.com/github/gnbucketz/pynqtrafficrecognition/blob/main/trainingmodelpynqz2.ipynb\" target=\"_parent\"><img src=\"https://colab.research.google.com/assets/colab-badge.svg\" alt=\"Open In Colab\"/></a>"
      ]
    },
    {
      "cell_type": "code",
      "execution_count": 33,
      "metadata": {
        "id": "6uY5Op9xRCwf"
      },
      "outputs": [],
      "source": [
        "import tensorflow"
      ]
    },
    {
      "cell_type": "code",
      "source": [
        "import pandas as pd\n",
        "import numpy as np\n",
        "import matplotlib.pyplot as plt"
      ],
      "metadata": {
        "id": "tZD1IVCtZFb3"
      },
      "execution_count": 31,
      "outputs": []
    },
    {
      "cell_type": "code",
      "source": [
        "from tensorflow.keras.datasets import mnist\n",
        "(x_train, y_train), (x_test, y_test) = mnist.load_data() #input and output"
      ],
      "metadata": {
        "id": "yPLZO6hqRLNP"
      },
      "execution_count": 50,
      "outputs": []
    },
    {
      "cell_type": "code",
      "source": [
        "plt.imshow(x_train[3], cmap = 'Greys')\n",
        "plt.show()"
      ],
      "metadata": {
        "colab": {
          "base_uri": "https://localhost:8080/",
          "height": 430
        },
        "id": "D30pwllURt7Y",
        "outputId": "575d83ad-062a-41ff-dbac-90b643282b5d"
      },
      "execution_count": 38,
      "outputs": [
        {
          "output_type": "display_data",
          "data": {
            "text/plain": [
              "<Figure size 640x480 with 1 Axes>"
            ],
            "image/png": "[encoded data removed]"
          },
          "metadata": {}
        }
      ]
    },
    {
      "cell_type": "code",
      "source": [
        "import tensorflow as tf\n",
        "from tensorflow import keras\n",
        "from tensorflow.keras import layers"
      ],
      "metadata": {
        "id": "B2nYjdP7SArh"
      },
      "execution_count": 42,
      "outputs": []
    },
    {
      "cell_type": "code",
      "source": [
        "x_train = x_train.reshape((60000, 28, 28, 1))\n",
        "x_train= x_train/ 255.0\n",
        "x_test = x_test.reshape((10000, 28, 28, 1))\n",
        "x_test= x_test/ 255.0"
      ],
      "metadata": {
        "id": "E3iyxj72XHSY"
      },
      "execution_count": 43,
      "outputs": []
    },
    {
      "cell_type": "code",
      "source": [
        "def CNN():\n",
        "    inputs = keras.Input(shape=(28, 28, 1), name='Input_layer')\n",
        "    x = layers.Conv2D(filters=32, kernel_size=3, strides=(1, 1), padding='valid', activation='relu', name=\"conv_layer_1\")(inputs)\n",
        "    x = layers.MaxPooling2D(pool_size=(2, 2), name=\"pooling_1\")(x)\n",
        "    x = layers.Conv2D(filters=64, kernel_size=(3, 3), activation='relu', name=\"conv_layer_2\")(x)\n",
        "    x = layers.MaxPooling2D(pool_size=(2, 2), name=\"pooling_2\")(x)\n",
        "    x = layers.Conv2D(filters=128, kernel_size=(3, 3), activation='relu', name=\"conv_layer_3\")(x)\n",
        "    x = layers.Flatten(name=\"flattening_layer\")(x)\n",
        "    x = layers.Dense(units=64, activation='relu')(x)\n",
        "    outputs = layers.Dense(units=10, activation='softmax', name='output_layer')(x)\n",
        "\n",
        "    model = keras.Model(inputs=inputs, outputs=outputs, name='first_CNN_model')\n",
        "    model.compile(optimizer='rmsprop',\n",
        "                  loss='sparse_categorical_crossentropy',\n",
        "                  metrics=['accuracy'])\n",
        "    return model"
      ],
      "metadata": {
        "id": "PbwvLwguRlnX"
      },
      "execution_count": 46,
      "outputs": []
    },
    {
      "cell_type": "code",
      "source": [
        "model = CNN()\n",
        "model.summary()\n"
      ],
      "metadata": {
        "colab": {
          "base_uri": "https://localhost:8080/"
        },
        "id": "LNSSE3snSSza",
        "outputId": "04b63c7a-e95f-4b82-9508-b07aae64104b"
      },
      "execution_count": 47,
      "outputs": [
        {
          "output_type": "stream",
          "name": "stdout",
          "text": [
            "Model: \"first_CNN_model\"\n",
            "_________________________________________________________________\n",
            " Layer (type)                Output Shape              Param #   \n",
            "=================================================================\n",
            " Input_layer (InputLayer)    [(None, 28, 28, 1)]       0         \n",
            "                                                                 \n",
            " conv_layer_1 (Conv2D)       (None, 26, 26, 32)        320       \n",
            "                                                                 \n",
            " pooling_1 (MaxPooling2D)    (None, 13, 13, 32)        0         \n",
            "                                                                 \n",
            " conv_layer_2 (Conv2D)       (None, 11, 11, 64)        18496     \n",
            "                                                                 \n",
            " pooling_2 (MaxPooling2D)    (None, 5, 5, 64)          0         \n",
            "                                                                 \n",
            " conv_layer_3 (Conv2D)       (None, 3, 3, 128)         73856     \n",
            "                                                                 \n",
            " flattening_layer (Flatten)  (None, 1152)              0         \n",
            "                                                                 \n",
            " dense_3 (Dense)             (None, 64)                73792     \n",
            "                                                                 \n",
            " output_layer (Dense)        (None, 10)                650       \n",
            "                                                                 \n",
            "=================================================================\n",
            "Total params: 167114 (652.79 KB)\n",
            "Trainable params: 167114 (652.79 KB)\n",
            "Non-trainable params: 0 (0.00 Byte)\n",
            "_________________________________________________________________\n"
          ]
        }
      ]
    },
    {
      "cell_type": "code",
      "source": [
        "np.floor(((28+0-3)/1)+1)"
      ],
      "metadata": {
        "colab": {
          "base_uri": "https://localhost:8080/"
        },
        "id": "HdG5johCYAb4",
        "outputId": "1cd0ab80-1dfe-467f-d565-8f1521d00ede"
      },
      "execution_count": 28,
      "outputs": [
        {
          "output_type": "execute_result",
          "data": {
            "text/plain": [
              "26.0"
            ]
          },
          "metadata": {},
          "execution_count": 28
        }
      ]
    },
    {
      "cell_type": "code",
      "source": [
        "from tensorflow.keras.callbacks import ModelCheckpoint\n",
        "modelcheckpoint = ModelCheckpoint(filepath=\"first_CNN.h5\", save_best_only=True, monitor=\"val_loss\")"
      ],
      "metadata": {
        "id": "f73CLYF_SfbA"
      },
      "execution_count": 48,
      "outputs": []
    },
    {
      "cell_type": "code",
      "source": [
        "history = model.fit(x=x_train, y=y_train,\n",
        "                    validation_data=(x_test, y_test),\n",
        "                    epochs=10, batch_size=64, callbacks=[modelcheckpoint])"
      ],
      "metadata": {
        "colab": {
          "base_uri": "https://localhost:8080/"
        },
        "id": "ZBvrlF5cSveA",
        "outputId": "346c9130-2d51-4226-e531-c5a801614152"
      },
      "execution_count": 49,
      "outputs": [
        {
          "output_type": "stream",
          "name": "stdout",
          "text": [
            "Epoch 1/10\n",
            "938/938 [==============================] - 56s 59ms/step - loss: 0.1656 - accuracy: 0.9476 - val_loss: 0.0522 - val_accuracy: 0.9837\n",
            "Epoch 2/10\n",
            "  2/938 [..............................] - ETA: 56s - loss: 0.0117 - accuracy: 1.0000"
          ]
        },
        {
          "output_type": "stream",
          "name": "stderr",
          "text": [
            "/usr/local/lib/python3.10/dist-packages/keras/src/engine/training.py:3103: UserWarning: You are saving your model as an HDF5 file via `model.save()`. This file format is considered legacy. We recommend using instead the native Keras format, e.g. `model.save('my_model.keras')`.\n",
            "  saving_api.save_model(\n"
          ]
        },
        {
          "output_type": "stream",
          "name": "stdout",
          "text": [
            "938/938 [==============================] - 52s 55ms/step - loss: 0.0430 - accuracy: 0.9873 - val_loss: 0.0431 - val_accuracy: 0.9863\n",
            "Epoch 3/10\n",
            "938/938 [==============================] - 52s 56ms/step - loss: 0.0287 - accuracy: 0.9910 - val_loss: 0.0267 - val_accuracy: 0.9921\n",
            "Epoch 4/10\n",
            "938/938 [==============================] - 49s 52ms/step - loss: 0.0210 - accuracy: 0.9938 - val_loss: 0.0256 - val_accuracy: 0.9911\n",
            "Epoch 5/10\n",
            "938/938 [==============================] - 51s 54ms/step - loss: 0.0165 - accuracy: 0.9952 - val_loss: 0.0494 - val_accuracy: 0.9864\n",
            "Epoch 6/10\n",
            "938/938 [==============================] - 52s 56ms/step - loss: 0.0128 - accuracy: 0.9962 - val_loss: 0.0280 - val_accuracy: 0.9932\n",
            "Epoch 7/10\n",
            "938/938 [==============================] - 49s 52ms/step - loss: 0.0101 - accuracy: 0.9969 - val_loss: 0.0360 - val_accuracy: 0.9918\n",
            "Epoch 8/10\n",
            "938/938 [==============================] - 50s 53ms/step - loss: 0.0084 - accuracy: 0.9974 - val_loss: 0.0271 - val_accuracy: 0.9931\n",
            "Epoch 9/10\n",
            "938/938 [==============================] - 50s 54ms/step - loss: 0.0071 - accuracy: 0.9980 - val_loss: 0.0328 - val_accuracy: 0.9928\n",
            "Epoch 10/10\n",
            "938/938 [==============================] - 49s 53ms/step - loss: 0.0057 - accuracy: 0.9982 - val_loss: 0.0346 - val_accuracy: 0.9933\n"
          ]
        }
      ]
    },
    {
      "cell_type": "code",
      "source": [
        "# Load the best model and evaluate\n",
        "test_model = keras.models.load_model('first_CNN.h5')\n",
        "test_model.evaluate(x_test, y_test)"
      ],
      "metadata": {
        "colab": {
          "base_uri": "https://localhost:8080/"
        },
        "id": "HD5uCPsKSzJI",
        "outputId": "102f251b-3701-4246-97dd-02e448c98e4a"
      },
      "execution_count": 17,
      "outputs": [
        {
          "output_type": "stream",
          "name": "stdout",
          "text": [
            "313/313 [==============================] - 5s 14ms/step - loss: 2.3010 - accuracy: 0.1135\n"
          ]
        },
        {
          "output_type": "execute_result",
          "data": {
            "text/plain": [
              "[2.300964832305908, 0.11349999904632568]"
            ]
          },
          "metadata": {},
          "execution_count": 17
        }
      ]
    }
  ]
}