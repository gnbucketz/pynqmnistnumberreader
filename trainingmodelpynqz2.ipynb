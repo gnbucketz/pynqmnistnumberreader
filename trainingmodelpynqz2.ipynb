{
  "nbformat": 4,
  "nbformat_minor": 0,
  "metadata": {
    "colab": {
      "provenance": [],
      "authorship_tag": "ABX9TyPV4xJpFruEJ5ZTHtmykUoT",
      "include_colab_link": true
    },
    "kernelspec": {
      "name": "python3",
      "display_name": "Python 3"
    },
    "language_info": {
      "name": "python"
    }
  },
  "cells": [
    {
      "cell_type": "markdown",
      "metadata": {
        "id": "view-in-github",
        "colab_type": "text"
      },
      "source": [
        "<a href=\"https://colab.research.google.com/github/gnbucketz/pynqtrafficrecognition/blob/main/trainingmodelpynqz2.ipynb\" target=\"_parent\"><img src=\"https://colab.research.google.com/assets/colab-badge.svg\" alt=\"Open In Colab\"/></a>"
      ]
    },
    {
      "cell_type": "code",
      "execution_count": 33,
      "metadata": {
        "id": "6uY5Op9xRCwf"
      },
      "outputs": [],
      "source": [
        "import tensorflow"
      ]
    },
    {
      "cell_type": "code",
      "source": [
        "import pandas as pd\n",
        "import numpy as np\n",
        "import matplotlib.pyplot as plt"
      ],
      "metadata": {
        "id": "tZD1IVCtZFb3"
      },
      "execution_count": 31,
      "outputs": []
    },
    {
      "cell_type": "code",
      "source": [
        "from tensorflow.keras.datasets import mnist\n",
        "(x_train, y_train), (x_test, y_test) = mnist.load_data() #input and output"
      ],
      "metadata": {
        "id": "yPLZO6hqRLNP"
      },
      "execution_count": 50,
      "outputs": []
    },
    {
      "cell_type": "code",
      "source": [
        "import tensorflow as tf\n",
        "from tensorflow import keras\n",
        "from tensorflow.keras import layers"
      ],
      "metadata": {
        "id": "B2nYjdP7SArh"
      },
      "execution_count": 42,
      "outputs": []
    },
    {
      "cell_type": "code",
      "source": [
        "x_train = x_train.reshape((60000, 28, 28, 1))\n",
        "x_train= x_train/ 255.0\n",
        "x_test = x_test.reshape((10000, 28, 28, 1))\n",
        "x_test= x_test/ 255.0"
      ],
      "metadata": {
        "id": "E3iyxj72XHSY"
      },
      "execution_count": 43,
      "outputs": []
    },
    {
      "cell_type": "code",
      "source": [
        "def CNN():\n",
        "    inputs = keras.Input(shape=(28, 28, 1), name='Input_layer')\n",
        "    x = layers.Conv2D(filters=32, kernel_size=3, strides=(1, 1), padding='valid', activation='relu', name=\"conv_layer_1\")(inputs)\n",
        "    x = layers.MaxPooling2D(pool_size=(2, 2), name=\"pooling_1\")(x)\n",
        "    x = layers.Conv2D(filters=64, kernel_size=(3, 3), activation='relu', name=\"conv_layer_2\")(x)\n",
        "    x = layers.MaxPooling2D(pool_size=(2, 2), name=\"pooling_2\")(x)\n",
        "    x = layers.Conv2D(filters=128, kernel_size=(3, 3), activation='relu', name=\"conv_layer_3\")(x)\n",
        "    x = layers.Flatten(name=\"flattening_layer\")(x)\n",
        "    x = layers.Dense(units=64, activation='relu')(x)\n",
        "    outputs = layers.Dense(units=10, activation='softmax', name='output_layer')(x)\n",
        "\n",
        "    model = keras.Model(inputs=inputs, outputs=outputs, name='first_CNN_model')\n",
        "    model.compile(optimizer='rmsprop',\n",
        "                  loss='sparse_categorical_crossentropy',\n",
        "                  metrics=['accuracy'])\n",
        "    return model"
      ],
      "metadata": {
        "id": "PbwvLwguRlnX"
      },
      "execution_count": 46,
      "outputs": []
    },
    {
      "cell_type": "code",
      "source": [
        "model = CNN()\n",
        "model.summary()"
      ],
      "metadata": {
        "colab": {
          "base_uri": "https://localhost:8080/"
        },
        "id": "LNSSE3snSSza",
        "outputId": "58c98e04-db84-45f9-a29b-a4b1a58895d6"
      },
      "execution_count": 55,
      "outputs": [
        {
          "output_type": "stream",
          "name": "stdout",
          "text": [
            "Model: \"first_CNN_model\"\n",
            "_________________________________________________________________\n",
            " Layer (type)                Output Shape              Param #   \n",
            "=================================================================\n",
            " Input_layer (InputLayer)    [(None, 28, 28, 1)]       0         \n",
            "                                                                 \n",
            " conv_layer_1 (Conv2D)       (None, 26, 26, 32)        320       \n",
            "                                                                 \n",
            " pooling_1 (MaxPooling2D)    (None, 13, 13, 32)        0         \n",
            "                                                                 \n",
            " conv_layer_2 (Conv2D)       (None, 11, 11, 64)        18496     \n",
            "                                                                 \n",
            " pooling_2 (MaxPooling2D)    (None, 5, 5, 64)          0         \n",
            "                                                                 \n",
            " conv_layer_3 (Conv2D)       (None, 3, 3, 128)         73856     \n",
            "                                                                 \n",
            " flattening_layer (Flatten)  (None, 1152)              0         \n",
            "                                                                 \n",
            " dense_4 (Dense)             (None, 64)                73792     \n",
            "                                                                 \n",
            " output_layer (Dense)        (None, 10)                650       \n",
            "                                                                 \n",
            "=================================================================\n",
            "Total params: 167114 (652.79 KB)\n",
            "Trainable params: 167114 (652.79 KB)\n",
            "Non-trainable params: 0 (0.00 Byte)\n",
            "_________________________________________________________________\n"
          ]
        }
      ]
    },
    {
      "cell_type": "code",
      "source": [
        "from tensorflow.keras.callbacks import ModelCheckpoint\n",
        "modelcheckpoint = ModelCheckpoint(filepath=\"final_CNN.h5\", save_best_only=True, monitor=\"val_loss\")"
      ],
      "metadata": {
        "id": "f73CLYF_SfbA"
      },
      "execution_count": 52,
      "outputs": []
    },
    {
      "cell_type": "code",
      "source": [
        "history = model.fit(x=x_train, y=y_train,\n",
        "                    validation_data=(x_test, y_test),\n",
        "                    epochs=10, batch_size=64, callbacks=[modelcheckpoint])"
      ],
      "metadata": {
        "colab": {
          "base_uri": "https://localhost:8080/"
        },
        "id": "ZBvrlF5cSveA",
        "outputId": "23268ce2-0079-490e-945a-9a74b454a453"
      },
      "execution_count": 53,
      "outputs": [
        {
          "output_type": "stream",
          "name": "stdout",
          "text": [
            "Epoch 1/10\n",
            "938/938 [==============================] - 52s 55ms/step - loss: 1.4901 - accuracy: 0.9971 - val_loss: 6.9035 - val_accuracy: 0.9913\n",
            "Epoch 2/10\n",
            "938/938 [==============================] - 49s 53ms/step - loss: 0.9882 - accuracy: 0.9969 - val_loss: 4.7079 - val_accuracy: 0.9924\n",
            "Epoch 3/10\n",
            "938/938 [==============================] - 50s 53ms/step - loss: 0.7371 - accuracy: 0.9970 - val_loss: 4.8250 - val_accuracy: 0.9905\n",
            "Epoch 4/10\n",
            "938/938 [==============================] - 53s 56ms/step - loss: 0.7673 - accuracy: 0.9968 - val_loss: 3.8417 - val_accuracy: 0.9912\n",
            "Epoch 5/10\n",
            "938/938 [==============================] - 49s 52ms/step - loss: 0.5330 - accuracy: 0.9972 - val_loss: 3.2027 - val_accuracy: 0.9926\n",
            "Epoch 6/10\n",
            "938/938 [==============================] - 50s 53ms/step - loss: 0.5659 - accuracy: 0.9973 - val_loss: 3.1474 - val_accuracy: 0.9912\n",
            "Epoch 7/10\n",
            "938/938 [==============================] - 50s 54ms/step - loss: 0.5042 - accuracy: 0.9972 - val_loss: 3.9838 - val_accuracy: 0.9896\n",
            "Epoch 8/10\n",
            "938/938 [==============================] - 48s 52ms/step - loss: 0.4413 - accuracy: 0.9971 - val_loss: 2.9083 - val_accuracy: 0.9906\n",
            "Epoch 9/10\n",
            "938/938 [==============================] - 51s 54ms/step - loss: 0.3542 - accuracy: 0.9977 - val_loss: 3.2498 - val_accuracy: 0.9902\n",
            "Epoch 10/10\n",
            "938/938 [==============================] - 49s 53ms/step - loss: 0.3479 - accuracy: 0.9978 - val_loss: 3.0135 - val_accuracy: 0.9910\n"
          ]
        }
      ]
    },
    {
      "cell_type": "code",
      "source": [
        "# Load the best model and evaluate\n",
        "test_model = keras.models.load_model('final_CNN.h5')\n",
        "test_model.evaluate(x_test, y_test)"
      ],
      "metadata": {
        "colab": {
          "base_uri": "https://localhost:8080/"
        },
        "id": "HD5uCPsKSzJI",
        "outputId": "116dce39-9038-44b3-be90-362094c4d64d"
      },
      "execution_count": 54,
      "outputs": [
        {
          "output_type": "stream",
          "name": "stdout",
          "text": [
            "313/313 [==============================] - 4s 12ms/step - loss: 2.9083 - accuracy: 0.9906\n"
          ]
        },
        {
          "output_type": "execute_result",
          "data": {
            "text/plain": [
              "[2.908271312713623, 0.9905999898910522]"
            ]
          },
          "metadata": {},
          "execution_count": 54
        }
      ]
    }
  ]
}