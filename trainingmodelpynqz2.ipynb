{
  "nbformat": 4,
  "nbformat_minor": 0,
  "metadata": {
    "colab": {
      "provenance": [],
      "authorship_tag": "ABX9TyOjtIHlaZFjsEgnPClB9DoU",
      "include_colab_link": true
    },
    "kernelspec": {
      "name": "python3",
      "display_name": "Python 3"
    },
    "language_info": {
      "name": "python"
    }
  },
  "cells": [
    {
      "cell_type": "markdown",
      "metadata": {
        "id": "view-in-github",
        "colab_type": "text"
      },
      "source": [
        "<a href=\"https://colab.research.google.com/github/gnbucketz/pynqmnistnumberreader/blob/main/trainingmodelpynqz2.ipynb\" target=\"_parent\"><img src=\"https://colab.research.google.com/assets/colab-badge.svg\" alt=\"Open In Colab\"/></a>"
      ]
    },
    {
      "cell_type": "code",
      "execution_count": null,
      "metadata": {
        "id": "6uY5Op9xRCwf"
      },
      "outputs": [],
      "source": [
        "import tensorflow\n",
        "import pandas as pd\n",
        "import numpy as np\n",
        "import matplotlib.pyplot as plt\n",
        "from tensorflow.keras.datasets import mnist\n"
      ]
    },
    {
      "cell_type": "code",
      "source": [
        "(x_train, y_train), (x_test, y_test) = mnist.load_data() #input and output"
      ],
      "metadata": {
        "id": "yPLZO6hqRLNP"
      },
      "execution_count": null,
      "outputs": []
    },
    {
      "cell_type": "code",
      "source": [
        "import tensorflow as tf\n",
        "from tensorflow import keras\n",
        "from tensorflow.keras import layers"
      ],
      "metadata": {
        "id": "B2nYjdP7SArh"
      },
      "execution_count": null,
      "outputs": []
    },
    {
      "cell_type": "code",
      "source": [
        "x_train = x_train.reshape((60000, 28, 28, 1))\n",
        "x_train= x_train/ 255.0\n",
        "x_test = x_test.reshape((10000, 28, 28, 1))\n",
        "x_test= x_test/ 255.0"
      ],
      "metadata": {
        "id": "E3iyxj72XHSY"
      },
      "execution_count": null,
      "outputs": []
    },
    {
      "cell_type": "code",
      "source": [
        "def CNN():\n",
        "    inputs = keras.Input(shape=(28, 28, 1), name='Input_layer')\n",
        "    x = layers.Conv2D(filters=32, kernel_size=3, strides=(1, 1), padding='valid', activation='relu', name=\"conv_layer_1\")(inputs)\n",
        "    x = layers.MaxPooling2D(pool_size=(2, 2), name=\"pooling_1\")(x)\n",
        "    x = layers.Conv2D(filters=64, kernel_size=(3, 3), activation='relu', name=\"conv_layer_2\")(x)\n",
        "    x = layers.MaxPooling2D(pool_size=(2, 2), name=\"pooling_2\")(x)\n",
        "    x = layers.Conv2D(filters=128, kernel_size=(3, 3), activation='relu', name=\"conv_layer_3\")(x)\n",
        "    x = layers.Flatten(name=\"flattening_layer\")(x)\n",
        "    x = layers.Dense(units=64, activation='relu')(x)\n",
        "    outputs = layers.Dense(units=10, activation='softmax', name='output_layer')(x)\n",
        "\n",
        "    model = keras.Model(inputs=inputs, outputs=outputs, name='final_CNN')\n",
        "    model.compile(optimizer='rmsprop',\n",
        "                  loss='sparse_categorical_crossentropy',\n",
        "                  metrics=['accuracy'])\n",
        "    return model"
      ],
      "metadata": {
        "id": "PbwvLwguRlnX"
      },
      "execution_count": null,
      "outputs": []
    },
    {
      "cell_type": "code",
      "source": [
        "model = CNN()\n",
        "model.summary()"
      ],
      "metadata": {
        "colab": {
          "base_uri": "https://localhost:8080/"
        },
        "id": "LNSSE3snSSza",
        "outputId": "767c2dd9-480e-4a35-f482-9a6a80454c66"
      },
      "execution_count": null,
      "outputs": [
        {
          "output_type": "stream",
          "name": "stdout",
          "text": [
            "Model: \"final_CNN\"\n",
            "_________________________________________________________________\n",
            " Layer (type)                Output Shape              Param #   \n",
            "=================================================================\n",
            " Input_layer (InputLayer)    [(None, 28, 28, 1)]       0         \n",
            "                                                                 \n",
            " conv_layer_1 (Conv2D)       (None, 26, 26, 32)        320       \n",
            "                                                                 \n",
            " pooling_1 (MaxPooling2D)    (None, 13, 13, 32)        0         \n",
            "                                                                 \n",
            " conv_layer_2 (Conv2D)       (None, 11, 11, 64)        18496     \n",
            "                                                                 \n",
            " pooling_2 (MaxPooling2D)    (None, 5, 5, 64)          0         \n",
            "                                                                 \n",
            " conv_layer_3 (Conv2D)       (None, 3, 3, 128)         73856     \n",
            "                                                                 \n",
            " flattening_layer (Flatten)  (None, 1152)              0         \n",
            "                                                                 \n",
            " dense (Dense)               (None, 64)                73792     \n",
            "                                                                 \n",
            " output_layer (Dense)        (None, 10)                650       \n",
            "                                                                 \n",
            "=================================================================\n",
            "Total params: 167114 (652.79 KB)\n",
            "Trainable params: 167114 (652.79 KB)\n",
            "Non-trainable params: 0 (0.00 Byte)\n",
            "_________________________________________________________________\n"
          ]
        }
      ]
    },
    {
      "cell_type": "code",
      "source": [
        "from tensorflow.keras.callbacks import ModelCheckpoint\n",
        "modelcheckpoint = ModelCheckpoint(filepath=\"final_CNN.h5\", save_best_only=True, monitor=\"val_loss\")"
      ],
      "metadata": {
        "id": "f73CLYF_SfbA"
      },
      "execution_count": null,
      "outputs": []
    },
    {
      "cell_type": "code",
      "source": [
        "history = model.fit(x=x_train, y=y_train,\n",
        "                    validation_data=(x_test, y_test),\n",
        "                    epochs=10, batch_size=64, callbacks=[modelcheckpoint])"
      ],
      "metadata": {
        "colab": {
          "base_uri": "https://localhost:8080/"
        },
        "id": "ZBvrlF5cSveA",
        "outputId": "a99e21be-6fdc-4407-cd77-1248f16766d5"
      },
      "execution_count": null,
      "outputs": [
        {
          "output_type": "stream",
          "name": "stdout",
          "text": [
            "Epoch 1/10\n",
            "938/938 [==============================] - 73s 77ms/step - loss: 0.1651 - accuracy: 0.9480 - val_loss: 0.0464 - val_accuracy: 0.9846\n",
            "Epoch 2/10\n",
            "  3/938 [..............................] - ETA: 40s - loss: 0.0272 - accuracy: 0.9896"
          ]
        },
        {
          "output_type": "stream",
          "name": "stderr",
          "text": [
            "/usr/local/lib/python3.10/dist-packages/keras/src/engine/training.py:3103: UserWarning: You are saving your model as an HDF5 file via `model.save()`. This file format is considered legacy. We recommend using instead the native Keras format, e.g. `model.save('my_model.keras')`.\n",
            "  saving_api.save_model(\n"
          ]
        },
        {
          "output_type": "stream",
          "name": "stdout",
          "text": [
            "938/938 [==============================] - 51s 54ms/step - loss: 0.0437 - accuracy: 0.9867 - val_loss: 0.0485 - val_accuracy: 0.9832\n",
            "Epoch 3/10\n",
            "938/938 [==============================] - 51s 55ms/step - loss: 0.0313 - accuracy: 0.9908 - val_loss: 0.0282 - val_accuracy: 0.9915\n",
            "Epoch 4/10\n",
            "938/938 [==============================] - 54s 57ms/step - loss: 0.0219 - accuracy: 0.9933 - val_loss: 0.0511 - val_accuracy: 0.9837\n",
            "Epoch 5/10\n",
            "938/938 [==============================] - 52s 55ms/step - loss: 0.0174 - accuracy: 0.9947 - val_loss: 0.0350 - val_accuracy: 0.9899\n",
            "Epoch 6/10\n",
            "938/938 [==============================] - 53s 56ms/step - loss: 0.0137 - accuracy: 0.9960 - val_loss: 0.0351 - val_accuracy: 0.9906\n",
            "Epoch 7/10\n",
            "938/938 [==============================] - 51s 55ms/step - loss: 0.0112 - accuracy: 0.9966 - val_loss: 0.0288 - val_accuracy: 0.9908\n",
            "Epoch 8/10\n",
            "938/938 [==============================] - 51s 55ms/step - loss: 0.0087 - accuracy: 0.9976 - val_loss: 0.0335 - val_accuracy: 0.9913\n",
            "Epoch 9/10\n",
            "938/938 [==============================] - 52s 55ms/step - loss: 0.0065 - accuracy: 0.9980 - val_loss: 0.0292 - val_accuracy: 0.9930\n",
            "Epoch 10/10\n",
            "938/938 [==============================] - 53s 57ms/step - loss: 0.0059 - accuracy: 0.9982 - val_loss: 0.0370 - val_accuracy: 0.9929\n"
          ]
        }
      ]
    },
    {
      "cell_type": "code",
      "source": [
        "import tensorflow as tf"
      ],
      "metadata": {
        "id": "qdUrpSkJQkBQ"
      },
      "execution_count": null,
      "outputs": []
    },
    {
      "cell_type": "code",
      "source": [
        "# Load your Keras model\n",
        "model = tf.keras.models.load_model('final_CNN.h5')\n",
        "\n",
        "# Convert the model to TFLite format\n",
        "converter = tf.lite.TFLiteConverter.from_keras_model(model)\n",
        "tflite_model = converter.convert()\n",
        "\n",
        "# Save the TFLite model\n",
        "with open('cnn_model.tflite', 'wb') as f:\n",
        "    f.write(tflite_model)"
      ],
      "metadata": {
        "id": "Zr2e0S4lOBnC"
      },
      "execution_count": null,
      "outputs": []
    },
    {
      "cell_type": "code",
      "source": [
        "def convert_tflite_to_c_array(tflite_file_path, output_header_file_path):\n",
        "    with open(tflite_file_path, 'rb') as f:\n",
        "        tflite_model = f.read()\n",
        "\n",
        "    with open(output_header_file_path, 'w') as f:\n",
        "        f.write('unsigned char g_cnn_model_tflite[] = {')\n",
        "        for i, byte in enumerate(tflite_model):\n",
        "            if i % 12 == 0:\n",
        "                f.write('\\n    ')\n",
        "            f.write(f'0x{byte:02x}, ')\n",
        "        f.write('\\n};\\n')\n",
        "        f.write(f'unsigned int g_cnn_model_tflite_len = {len(tflite_model)};\\n')\n",
        "\n",
        "# Call the function to create the header file\n",
        "convert_tflite_to_c_array('cnn_model.tflite', 'cnn_model_tflite.h')"
      ],
      "metadata": {
        "id": "Wa7z7jO-Ipui"
      },
      "execution_count": null,
      "outputs": []
    },
    {
      "cell_type": "code",
      "source": [
        "!ls -la /content/\n"
      ],
      "metadata": {
        "id": "7ccQVkR8JKBy",
        "outputId": "f315645f-4198-4f9b-824f-6ed2951cef06",
        "colab": {
          "base_uri": "https://localhost:8080/"
        }
      },
      "execution_count": null,
      "outputs": [
        {
          "output_type": "stream",
          "name": "stdout",
          "text": [
            "total 6900\n",
            "drwxr-xr-x 1 root root    4096 May 18 09:57 .\n",
            "drwxr-xr-x 1 root root    4096 May 18 08:14 ..\n",
            "-rw-r--r-- 1 root root  671892 May 18 09:33 cnn_model.onnx\n",
            "-rw-r--r-- 1 root root  672424 May 18 09:53 cnn_model.tflite\n",
            "-rw-r--r-- 1 root root 4314812 May 18 09:59 cnn_model_tflite.h\n",
            "drwxr-xr-x 4 root root    4096 May 16 13:24 .config\n",
            "-rw-r--r-- 1 root root 1380328 May 18 09:21 final_CNN.h5\n",
            "drwxr-xr-x 1 root root    4096 May 16 13:24 sample_data\n"
          ]
        }
      ]
    }
  ]
}