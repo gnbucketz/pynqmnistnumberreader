{
  "nbformat": 4,
  "nbformat_minor": 0,
  "metadata": {
    "colab": {
      "provenance": [],
      "authorship_tag": "ABX9TyP7ZG8Ms9ELqfvRd+1Ed7Av",
      "include_colab_link": true
    },
    "kernelspec": {
      "name": "python3",
      "display_name": "Python 3"
    },
    "language_info": {
      "name": "python"
    }
  },
  "cells": [
    {
      "cell_type": "markdown",
      "metadata": {
        "id": "view-in-github",
        "colab_type": "text"
      },
      "source": [
        "<a href=\"https://colab.research.google.com/github/gnbucketz/pynqmnistnumberreader/blob/main/trainingmodelpynqz2.ipynb\" target=\"_parent\"><img src=\"https://colab.research.google.com/assets/colab-badge.svg\" alt=\"Open In Colab\"/></a>"
      ]
    },
    {
      "cell_type": "code",
      "execution_count": 58,
      "metadata": {
        "id": "6uY5Op9xRCwf"
      },
      "outputs": [],
      "source": [
        "import tensorflow\n",
        "import pandas as pd\n",
        "import numpy as np\n",
        "import matplotlib.pyplot as plt\n",
        "from tensorflow.keras.datasets import mnist\n"
      ]
    },
    {
      "cell_type": "code",
      "source": [
        "(x_train, y_train), (x_test, y_test) = mnist.load_data() #input and output"
      ],
      "metadata": {
        "id": "yPLZO6hqRLNP"
      },
      "execution_count": 59,
      "outputs": []
    },
    {
      "cell_type": "code",
      "source": [
        "import tensorflow as tf\n",
        "from tensorflow import keras\n",
        "from tensorflow.keras import layers"
      ],
      "metadata": {
        "id": "B2nYjdP7SArh"
      },
      "execution_count": null,
      "outputs": []
    },
    {
      "cell_type": "code",
      "source": [
        "x_train = x_train.reshape((60000, 28, 28, 1))\n",
        "x_train= x_train/ 255.0\n",
        "x_test = x_test.reshape((10000, 28, 28, 1))\n",
        "x_test= x_test/ 255.0"
      ],
      "metadata": {
        "id": "E3iyxj72XHSY"
      },
      "execution_count": 60,
      "outputs": []
    },
    {
      "cell_type": "code",
      "source": [
        "def CNN():\n",
        "    inputs = keras.Input(shape=(28, 28, 1), name='Input_layer')\n",
        "    x = layers.Conv2D(filters=32, kernel_size=3, strides=(1, 1), padding='valid', activation='relu', name=\"conv_layer_1\")(inputs)\n",
        "    x = layers.MaxPooling2D(pool_size=(2, 2), name=\"pooling_1\")(x)\n",
        "    x = layers.Conv2D(filters=64, kernel_size=(3, 3), activation='relu', name=\"conv_layer_2\")(x)\n",
        "    x = layers.MaxPooling2D(pool_size=(2, 2), name=\"pooling_2\")(x)\n",
        "    x = layers.Conv2D(filters=128, kernel_size=(3, 3), activation='relu', name=\"conv_layer_3\")(x)\n",
        "    x = layers.Flatten(name=\"flattening_layer\")(x)\n",
        "    x = layers.Dense(units=64, activation='relu')(x)\n",
        "    outputs = layers.Dense(units=10, activation='softmax', name='output_layer')(x)\n",
        "\n",
        "    model = keras.Model(inputs=inputs, outputs=outputs, name='final_CNN_model')\n",
        "    model.compile(optimizer='rmsprop',\n",
        "                  loss='sparse_categorical_crossentropy',\n",
        "                  metrics=['accuracy'])\n",
        "    return model"
      ],
      "metadata": {
        "id": "PbwvLwguRlnX"
      },
      "execution_count": 56,
      "outputs": []
    },
    {
      "cell_type": "code",
      "source": [
        "model = CNN()\n",
        "model.summary()"
      ],
      "metadata": {
        "colab": {
          "base_uri": "https://localhost:8080/"
        },
        "id": "LNSSE3snSSza",
        "outputId": "2e9889c2-6315-466c-f4ba-99b56e3b3b1a"
      },
      "execution_count": 61,
      "outputs": [
        {
          "output_type": "stream",
          "name": "stdout",
          "text": [
            "Model: \"final_CNN_model\"\n",
            "_________________________________________________________________\n",
            " Layer (type)                Output Shape              Param #   \n",
            "=================================================================\n",
            " Input_layer (InputLayer)    [(None, 28, 28, 1)]       0         \n",
            "                                                                 \n",
            " conv_layer_1 (Conv2D)       (None, 26, 26, 32)        320       \n",
            "                                                                 \n",
            " pooling_1 (MaxPooling2D)    (None, 13, 13, 32)        0         \n",
            "                                                                 \n",
            " conv_layer_2 (Conv2D)       (None, 11, 11, 64)        18496     \n",
            "                                                                 \n",
            " pooling_2 (MaxPooling2D)    (None, 5, 5, 64)          0         \n",
            "                                                                 \n",
            " conv_layer_3 (Conv2D)       (None, 3, 3, 128)         73856     \n",
            "                                                                 \n",
            " flattening_layer (Flatten)  (None, 1152)              0         \n",
            "                                                                 \n",
            " dense_6 (Dense)             (None, 64)                73792     \n",
            "                                                                 \n",
            " output_layer (Dense)        (None, 10)                650       \n",
            "                                                                 \n",
            "=================================================================\n",
            "Total params: 167114 (652.79 KB)\n",
            "Trainable params: 167114 (652.79 KB)\n",
            "Non-trainable params: 0 (0.00 Byte)\n",
            "_________________________________________________________________\n"
          ]
        }
      ]
    },
    {
      "cell_type": "code",
      "source": [
        "from tensorflow.keras.callbacks import ModelCheckpoint\n",
        "modelcheckpoint = ModelCheckpoint(filepath=\"final_CNN.h5\", save_best_only=True, monitor=\"val_loss\")"
      ],
      "metadata": {
        "id": "f73CLYF_SfbA"
      },
      "execution_count": 62,
      "outputs": []
    },
    {
      "cell_type": "code",
      "source": [
        "history = model.fit(x=x_train, y=y_train,\n",
        "                    validation_data=(x_test, y_test),\n",
        "                    epochs=10, batch_size=64, callbacks=[modelcheckpoint])"
      ],
      "metadata": {
        "colab": {
          "base_uri": "https://localhost:8080/"
        },
        "id": "ZBvrlF5cSveA",
        "outputId": "7f9b1174-c679-47b5-c4ac-3c67cec3d094"
      },
      "execution_count": 64,
      "outputs": [
        {
          "output_type": "stream",
          "name": "stdout",
          "text": [
            "Epoch 1/10\n",
            "938/938 [==============================] - 50s 54ms/step - loss: 0.0554 - accuracy: 0.9832 - val_loss: 0.0323 - val_accuracy: 0.9893\n",
            "Epoch 2/10\n",
            "938/938 [==============================] - 51s 55ms/step - loss: 0.0336 - accuracy: 0.9895 - val_loss: 0.0350 - val_accuracy: 0.9880\n",
            "Epoch 3/10\n",
            "938/938 [==============================] - 50s 53ms/step - loss: 0.0248 - accuracy: 0.9921 - val_loss: 0.0264 - val_accuracy: 0.9920\n",
            "Epoch 4/10\n",
            "938/938 [==============================] - 49s 52ms/step - loss: 0.0185 - accuracy: 0.9941 - val_loss: 0.0340 - val_accuracy: 0.9905\n",
            "Epoch 5/10\n",
            "938/938 [==============================] - 50s 54ms/step - loss: 0.0146 - accuracy: 0.9956 - val_loss: 0.0301 - val_accuracy: 0.9914\n",
            "Epoch 6/10\n",
            "938/938 [==============================] - 49s 52ms/step - loss: 0.0112 - accuracy: 0.9963 - val_loss: 0.0286 - val_accuracy: 0.9927\n",
            "Epoch 7/10\n",
            "938/938 [==============================] - 50s 53ms/step - loss: 0.0090 - accuracy: 0.9976 - val_loss: 0.0357 - val_accuracy: 0.9912\n",
            "Epoch 8/10\n",
            "938/938 [==============================] - 50s 53ms/step - loss: 0.0071 - accuracy: 0.9980 - val_loss: 0.0312 - val_accuracy: 0.9935\n",
            "Epoch 9/10\n",
            "938/938 [==============================] - 49s 52ms/step - loss: 0.0063 - accuracy: 0.9983 - val_loss: 0.0399 - val_accuracy: 0.9921\n",
            "Epoch 10/10\n",
            "938/938 [==============================] - 50s 54ms/step - loss: 0.0051 - accuracy: 0.9986 - val_loss: 0.0417 - val_accuracy: 0.9911\n"
          ]
        }
      ]
    },
    {
      "cell_type": "code",
      "source": [
        "# Load the best model and evaluate\n",
        "test_model = keras.models.load_model('final_CNN.h5')\n",
        "test_model.evaluate(x_test, y_test)"
      ],
      "metadata": {
        "colab": {
          "base_uri": "https://localhost:8080/"
        },
        "id": "HD5uCPsKSzJI",
        "outputId": "3b94b85d-fed2-40fc-8e39-7c86757d8f6d"
      },
      "execution_count": 65,
      "outputs": [
        {
          "output_type": "stream",
          "name": "stdout",
          "text": [
            "313/313 [==============================] - 4s 12ms/step - loss: 0.0264 - accuracy: 0.9920\n"
          ]
        },
        {
          "output_type": "execute_result",
          "data": {
            "text/plain": [
              "[0.026446176692843437, 0.9919999837875366]"
            ]
          },
          "metadata": {},
          "execution_count": 65
        }
      ]
    }
  ]
}